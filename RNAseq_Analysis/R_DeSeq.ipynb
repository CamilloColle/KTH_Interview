{
 "cells": [
  {
   "cell_type": "markdown",
   "id": "2df09dac",
   "metadata": {},
   "source": [
    "### Import and Setup\n"
   ]
  },
  {
   "cell_type": "code",
   "execution_count": null,
   "id": "22c1425e",
   "metadata": {
    "vscode": {
     "languageId": "r"
    }
   },
   "outputs": [],
   "source": [
    "organism = \"org.At.tair.db\"\n",
    "DEGs = \"results.csv\" #created in exploration.ipynb"
   ]
  },
  {
   "cell_type": "code",
   "execution_count": null,
   "id": "11e75f8d",
   "metadata": {
    "vscode": {
     "languageId": "r"
    }
   },
   "outputs": [],
   "source": [
    "library(\"ggplot2\")\n",
    "library(\"dplyr\")\n",
    "library(\"DESeq2\")\n",
    "library(\"clusterProfiler\")\n",
    "library(\"pathview\")\n",
    "library(\"enrichplot\")\n",
    "library(organism, character.only = TRUE)"
   ]
  },
  {
   "cell_type": "code",
   "execution_count": null,
   "id": "f3b31d04",
   "metadata": {
    "vscode": {
     "languageId": "r"
    }
   },
   "outputs": [],
   "source": [
    "# reading in data from deseq2\n",
    "df = read.csv(DEGs, header=TRUE)\n",
    "\n",
    "# we want the log2 fold change \n",
    "original_gene_list <- df$log2FoldChange\n",
    "\n",
    "# name the vector\n",
    "names(original_gene_list) <- df$Symbol\n",
    "\n",
    "# omit any NA values \n",
    "gene_list<-na.omit(original_gene_list)\n",
    "\n",
    "# sort the list in decreasing order (required for clusterProfiler)\n",
    "gene_list = sort(gene_list, decreasing = TRUE)"
   ]
  },
  {
   "cell_type": "code",
   "execution_count": null,
   "id": "1d48a97c",
   "metadata": {
    "vscode": {
     "languageId": "r"
    }
   },
   "outputs": [],
   "source": [
    "# Check available keytypes\n",
    "keytypes(org.At.tair.db)  "
   ]
  },
  {
   "cell_type": "markdown",
   "id": "da051f80",
   "metadata": {},
   "source": [
    "### GSEA"
   ]
  },
  {
   "cell_type": "code",
   "execution_count": null,
   "id": "e56e75de",
   "metadata": {
    "vscode": {
     "languageId": "r"
    }
   },
   "outputs": [],
   "source": [
    "gse <- gseGO(geneList=gene_list, \n",
    "             ont =\"ALL\", \n",
    "             keyType = \"SYMBOL\", \n",
    "             #nPerm = 10000, \n",
    "             minGSSize = 3, \n",
    "             maxGSSize = 800, \n",
    "             pvalueCutoff = 0.05, \n",
    "             verbose = TRUE, \n",
    "             OrgDb = organism)"
   ]
  },
  {
   "cell_type": "code",
   "execution_count": null,
   "id": "8290dd06",
   "metadata": {
    "vscode": {
     "languageId": "r"
    }
   },
   "outputs": [],
   "source": [
    "require(DOSE)\n",
    "dotplot(gse, showCategory=10, split=\".sign\") + facet_grid(.~.sign)"
   ]
  },
  {
   "cell_type": "code",
   "execution_count": null,
   "id": "4e1c0ae8",
   "metadata": {
    "vscode": {
     "languageId": "r"
    }
   },
   "outputs": [],
   "source": [
    "require(ggridges)\n",
    "ridgeplot(gse) + labs(x = \"enrichment distribution\") + \n",
    "    theme(plot.margin = margin(1, 1, 1, 1, \"cm\"),\n",
    "                axis.text.y = element_text(size = 8)) +\n",
    "    coord_cartesian(clip = \"off\")"
   ]
  },
  {
   "cell_type": "markdown",
   "id": "82b81c42",
   "metadata": {},
   "source": [
    "### KEGG"
   ]
  },
  {
   "cell_type": "code",
   "execution_count": null,
   "id": "1e813a57",
   "metadata": {
    "vscode": {
     "languageId": "r"
    }
   },
   "outputs": [],
   "source": [
    "# Prep input\n",
    "# Convert gene IDs for gseKEGG function\n",
    "# We will lose some genes here because not all IDs will be converted\n",
    "ids<-bitr(names(original_gene_list), fromType = \"SYMBOL\", toType = \"ENTREZID\", OrgDb=organism)\n",
    "\n",
    "# Remove duplicates\n",
    "dedup_ids = ids[!duplicated(ids[c(\"SYMBOL\")]),]\n",
    "\n",
    "# Create a new dataframe df2 which has only the genes which were successfully mapped using the bitr function above\n",
    "df2 = df[df$Symbol %in% dedup_ids$SYMBOL,]\n",
    "\n",
    "# Create a new column in df2 with the corresponding ENTREZ IDs\n",
    "df2$Y <- dedup_ids$ENTREZID[match(df2$Symbol, dedup_ids$SYMBOL)]\n",
    "\n",
    "# Create a vector of the gene unuiverse\n",
    "kegg_gene_list <- df2$log2FoldChange\n",
    "\n",
    "# Name vector with ENTREZ ids\n",
    "names(kegg_gene_list) <- df2$Y\n",
    "\n",
    "# omit any NA values \n",
    "kegg_gene_list<-na.omit(kegg_gene_list)\n",
    "\n",
    "# sort the list in decreasing order (required for clusterProfiler)\n",
    "kegg_gene_list = sort(kegg_gene_list, decreasing = TRUE)"
   ]
  },
  {
   "cell_type": "code",
   "execution_count": null,
   "id": "b1b5b76f",
   "metadata": {
    "vscode": {
     "languageId": "r"
    }
   },
   "outputs": [],
   "source": [
    "\n",
    "kegg_organism = \"ath\"\n",
    "kk <- gseKEGG(geneList     = kegg_gene_list,\n",
    "               organism     = kegg_organism,\n",
    "               nPerm        = 10000,\n",
    "               minGSSize    = 3,\n",
    "               maxGSSize    = 800,\n",
    "               pvalueCutoff = 0.05,\n",
    "               keyType      = \"ncbi-geneid\")\n"
   ]
  },
  {
   "cell_type": "code",
   "execution_count": null,
   "id": "d81564ba",
   "metadata": {
    "vscode": {
     "languageId": "r"
    }
   },
   "outputs": [],
   "source": [
    "dotplot(kk, showCategory = 10, title = \"Enriched Pathways\", split=\".sign\") + facet_grid(.~.sign)"
   ]
  },
  {
   "cell_type": "code",
   "execution_count": null,
   "id": "867a3470",
   "metadata": {
    "vscode": {
     "languageId": "r"
    }
   },
   "outputs": [],
   "source": [
    "ridgeplot(kk) + labs(x = \"enrichment distribution\")"
   ]
  },
  {
   "cell_type": "markdown",
   "id": "3ac1d6f2",
   "metadata": {},
   "source": [
    "### WebGestaltR Over Representation Analysis"
   ]
  },
  {
   "cell_type": "code",
   "execution_count": null,
   "id": "c92b7611",
   "metadata": {
    "vscode": {
     "languageId": "r"
    }
   },
   "outputs": [],
   "source": [
    "# Install and load WebGestaltR if not already installed\n",
    "library(WebGestaltR)\n",
    "library(dplyr)\n",
    "library(stringr)"
   ]
  },
  {
   "cell_type": "code",
   "execution_count": null,
   "id": "85071318",
   "metadata": {
    "vscode": {
     "languageId": "r"
    }
   },
   "outputs": [],
   "source": [
    "# Prepare gene lists for WebGestaltR\n",
    "# Filter for significant genes (padj < 0.05 and |log2FC| > 1)\n",
    "significant_genes <- df[!is.na(df$padj) & df$padj < 0.05 & abs(df$log2FoldChange) > 1, ]\n",
    "\n",
    "# Upregulated genes (log2FC > 1 and padj < 0.05)\n",
    "up_genes_webgestalt <- significant_genes[significant_genes$log2FoldChange > 1, \"Symbol\"]\n",
    "up_genes_webgestalt <- up_genes_webgestalt[!is.na(up_genes_webgestalt)]\n",
    "\n",
    "# Downregulated genes (log2FC < -1 and padj < 0.05)\n",
    "down_genes_webgestalt <- significant_genes[significant_genes$log2FoldChange < -1, \"Symbol\"]\n",
    "down_genes_webgestalt <- down_genes_webgestalt[!is.na(down_genes_webgestalt)]\n",
    "\n",
    "# Background/reference genes (all genes in the dataset)\n",
    "background_genes <- df$Symbol[!is.na(df$Symbol)]\n",
    "\n",
    "# Print summary\n",
    "cat(\"Number of upregulated genes:\", length(up_genes_webgestalt), \"\\n\")\n",
    "cat(\"Number of downregulated genes:\", length(down_genes_webgestalt), \"\\n\")\n",
    "cat(\"Total background genes:\", length(background_genes), \"\\n\")"
   ]
  },
  {
   "cell_type": "markdown",
   "id": "d3f61f21",
   "metadata": {},
   "source": [
    "#### Gene Ontology Analysis - Upregulated Genes"
   ]
  },
  {
   "cell_type": "code",
   "execution_count": null,
   "id": "817d2d18",
   "metadata": {
    "vscode": {
     "languageId": "r"
    }
   },
   "outputs": [],
   "source": [
    "# WebGestaltR GO analysis for upregulated genes\n",
    "webgestalt_up_BP <- WebGestaltR(\n",
    "    enrichMethod = \"ORA\",                    # Over-representation analysis\n",
    "    organism = \"athaliana\",                  # Arabidopsis thaliana\n",
    "    enrichDatabase = \"geneontology_Biological_Process\",\n",
    "    interestGene = up_genes_webgestalt,\n",
    "    referenceGene = background_genes,\n",
    "    interestGeneType = \"genesymbol\",\n",
    "    referenceGeneType = \"genesymbol\",\n",
    "    minNum = 5,                              # Minimum number of genes in a category\n",
    "    maxNum = 500,                            # Maximum number of genes in a category\n",
    "    fdrThr = 0.05,                          # FDR threshold\n",
    "    topThr = 20,                            # Top categories to show\n",
    "    reportNum = 20,                         # Number of categories to report\n",
    "    projectName = \"WebGestalt_UP_BP\",\n",
    "    isOutput = FALSE                        # Don't write files to disk\n",
    ")\n",
    "\n",
    "print(\"WebGestaltR analysis for upregulated genes (BP) completed\")"
   ]
  },
  {
   "cell_type": "code",
   "execution_count": null,
   "id": "6b3cc28e",
   "metadata": {
    "vscode": {
     "languageId": "r"
    }
   },
   "outputs": [],
   "source": [
    "# Create dotplot for upregulated genes GO results\n",
    "if (!is.null(webgestalt_up_BP) && nrow(webgestalt_up_BP) > 0) {\n",
    "    # Prepare data for plotting\n",
    "    plot_data_up <- webgestalt_up_BP %>%\n",
    "        head(15) %>%  # Top 15 terms\n",
    "        mutate(\n",
    "            GeneRatio = overlap / size,\n",
    "            negLog10FDR = -log10(FDR),\n",
    "            Description = stringr::str_wrap(description, width = 50)\n",
    "        ) %>%\n",
    "        arrange(FDR)\n",
    "    \n",
    "    # Create dotplot\n",
    "    webgestalt_up_dotplot <- ggplot(plot_data_up, aes(x = GeneRatio, y = reorder(Description, negLog10FDR))) +\n",
    "        geom_point(aes(size = overlap, color = negLog10FDR)) +\n",
    "        scale_color_gradient(low = \"blue\", high = \"red\", name = \"-log10(FDR)\") +\n",
    "        scale_size_continuous(name = \"Gene Count\", range = c(2, 8)) +\n",
    "        labs(\n",
    "            title = \"GO Biological Process - Upregulated Genes\",\n",
    "            x = \"Gene Ratio\",\n",
    "            y = \"GO Terms\"\n",
    "        ) +\n",
    "        theme_bw() +\n",
    "        theme(\n",
    "            axis.text.y = element_text(size = 9),\n",
    "            plot.title = element_text(hjust = 0.5, size = 12, face = \"bold\"),\n",
    "            legend.text = element_text(size = 8),\n",
    "            legend.title = element_text(size = 9)\n",
    "        )\n",
    "    \n",
    "    print(webgestalt_up_dotplot)\n",
    "} else {\n",
    "    print(\"No significant GO terms found for upregulated genes\")\n",
    "}"
   ]
  },
  {
   "cell_type": "markdown",
   "id": "b4a36a0e",
   "metadata": {},
   "source": [
    "#### Gene Ontology Analysis - Downregulated Genes"
   ]
  },
  {
   "cell_type": "code",
   "execution_count": null,
   "id": "b99d7b11",
   "metadata": {
    "vscode": {
     "languageId": "r"
    }
   },
   "outputs": [],
   "source": [
    "# WebGestaltR GO analysis for downregulated genes\n",
    "webgestalt_down_BP <- WebGestaltR(\n",
    "    enrichMethod = \"ORA\",                    # Over-representation analysis\n",
    "    organism = \"athaliana\",                  # Arabidopsis thaliana\n",
    "    enrichDatabase = \"geneontology_Biological_Process\",\n",
    "    interestGene = down_genes_webgestalt,\n",
    "    referenceGene = background_genes,\n",
    "    interestGeneType = \"genesymbol\",\n",
    "    referenceGeneType = \"genesymbol\",\n",
    "    minNum = 5,                              # Minimum number of genes in a category\n",
    "    maxNum = 500,                            # Maximum number of genes in a category\n",
    "    fdrThr = 0.05,                          # FDR threshold\n",
    "    topThr = 20,                            # Top categories to show\n",
    "    reportNum = 20,                         # Number of categories to report\n",
    "    projectName = \"WebGestalt_DOWN_BP\",\n",
    "    isOutput = FALSE                        # Don't write files to disk\n",
    ")\n",
    "\n",
    "print(\"WebGestaltR analysis for downregulated genes (BP) completed\")"
   ]
  },
  {
   "cell_type": "code",
   "execution_count": null,
   "id": "e62ddb04",
   "metadata": {
    "vscode": {
     "languageId": "r"
    }
   },
   "outputs": [],
   "source": [
    "# Create dotplot for downregulated genes GO results\n",
    "if (!is.null(webgestalt_down_BP) && nrow(webgestalt_down_BP) > 0) {\n",
    "    # Prepare data for plotting\n",
    "    plot_data_down <- webgestalt_down_BP %>%\n",
    "        head(15) %>%  # Top 15 terms\n",
    "        mutate(\n",
    "            GeneRatio = overlap / size,\n",
    "            negLog10FDR = -log10(FDR),\n",
    "            Description = stringr::str_wrap(description, width = 50)\n",
    "        ) %>%\n",
    "        arrange(FDR)\n",
    "    \n",
    "    # Create dotplot\n",
    "    webgestalt_down_dotplot <- ggplot(plot_data_down, aes(x = GeneRatio, y = reorder(Description, negLog10FDR))) +\n",
    "        geom_point(aes(size = overlap, color = negLog10FDR)) +\n",
    "        scale_color_gradient(low = \"blue\", high = \"red\", name = \"-log10(FDR)\") +\n",
    "        scale_size_continuous(name = \"Gene Count\", range = c(2, 8)) +\n",
    "        labs(\n",
    "            title = \"GO Biological Process - Downregulated Genes\",\n",
    "            x = \"Gene Ratio\",\n",
    "            y = \"GO Terms\"\n",
    "        ) +\n",
    "        theme_bw() +\n",
    "        theme(\n",
    "            axis.text.y = element_text(size = 9),\n",
    "            plot.title = element_text(hjust = 0.5, size = 12, face = \"bold\"),\n",
    "            legend.text = element_text(size = 8),\n",
    "            legend.title = element_text(size = 9)\n",
    "        )\n",
    "    \n",
    "    print(webgestalt_down_dotplot)\n",
    "} else {\n",
    "    print(\"No significant GO terms found for downregulated genes\")\n",
    "}"
   ]
  },
  {
   "cell_type": "code",
   "execution_count": null,
   "id": "a51e2109",
   "metadata": {
    "vscode": {
     "languageId": "r"
    }
   },
   "outputs": [],
   "source": [
    "# Optional: Display summary statistics and top results\n",
    "if (!is.null(webgestalt_up_BP) && nrow(webgestalt_up_BP) > 0) {\n",
    "    cat(\"Top 5 GO terms for UPREGULATED genes:\\n\")\n",
    "    print(webgestalt_up_BP[1:min(5, nrow(webgestalt_up_BP)), c(\"description\", \"enrichmentRatio\", \"FDR\", \"overlap\")])\n",
    "}\n",
    "\n",
    "if (!is.null(webgestalt_down_BP) && nrow(webgestalt_down_BP) > 0) {\n",
    "    cat(\"\\nTop 5 GO terms for DOWNREGULATED genes:\\n\")\n",
    "    print(webgestalt_down_BP[1:min(5, nrow(webgestalt_down_BP)), c(\"description\", \"enrichmentRatio\", \"FDR\", \"overlap\")])\n",
    "}"
   ]
  }
 ],
 "metadata": {
  "kernelspec": {
   "display_name": "R",
   "language": "R",
   "name": "ir"
  },
  "language_info": {
   "codemirror_mode": "r",
   "file_extension": ".r",
   "mimetype": "text/x-r-source",
   "name": "R",
   "pygments_lexer": "r",
   "version": "4.3.3"
  }
 },
 "nbformat": 4,
 "nbformat_minor": 5
}
