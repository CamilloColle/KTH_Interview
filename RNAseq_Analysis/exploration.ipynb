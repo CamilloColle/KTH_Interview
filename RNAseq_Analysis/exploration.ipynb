{
 "cells": [
  {
   "cell_type": "markdown",
   "id": "195969b3",
   "metadata": {},
   "source": [
    "### Import"
   ]
  },
  {
   "cell_type": "code",
   "execution_count": null,
   "id": "56f7ec2f",
   "metadata": {},
   "outputs": [],
   "source": [
    "import pandas as pd\n",
    "import numpy as np\n",
    "import matplotlib.pyplot as plt\n",
    "import seaborn as sns\n",
    "from pydeseq2.dds import DeseqDataSet\n",
    "from pydeseq2.ds import DeseqStats"
   ]
  },
  {
   "cell_type": "code",
   "execution_count": null,
   "id": "e44c808e",
   "metadata": {},
   "outputs": [],
   "source": [
    "counts_raw = pd.read_csv('counts.csv', index_col=0)\n",
    "conditions = pd.read_csv('conditions.csv', index_col=0)\n",
    "mapping = pd.read_csv('tx2gene.tsv', sep='\\t')"
   ]
  },
  {
   "cell_type": "markdown",
   "id": "f773bb17",
   "metadata": {},
   "source": [
    "### Exploratory Data Analysis"
   ]
  },
  {
   "cell_type": "code",
   "execution_count": null,
   "id": "32aa2954",
   "metadata": {},
   "outputs": [],
   "source": [
    "# Info about counts\n",
    "print(\"Shape of dataset:\", counts_raw.shape)\n",
    "print(\"\\nColumn names:\", counts_raw.columns.tolist())\n",
    "print(\"\\nData types:\\n\", counts_raw.dtypes)\n",
    "print(\"\\nMissing values:\\n\", counts_raw.isnull().sum())"
   ]
  },
  {
   "cell_type": "code",
   "execution_count": null,
   "id": "735230fd",
   "metadata": {},
   "outputs": [],
   "source": [
    "# Info about mapping\n",
    "print(\"Shape of dataset:\", mapping.shape)\n",
    "print(\"\\nNumber of unique genes in mapping:\", mapping['gene_id'].nunique())\n",
    "print(\"\\nNumber of unique genes in counts:\", counts_raw.index.nunique())\n"
   ]
  },
  {
   "cell_type": "code",
   "execution_count": null,
   "id": "5a1340b8",
   "metadata": {},
   "outputs": [],
   "source": [
    "# Basic statistics for counts\n",
    "print(\"\\nSummary statistics:\\n\", counts_raw.describe())"
   ]
  },
  {
   "cell_type": "code",
   "execution_count": null,
   "id": "c15b5756",
   "metadata": {},
   "outputs": [],
   "source": [
    "# Number of genes to consider/filter\n",
    "print(\"\\nNumber of genes in the dataset(x4):\", counts_raw.shape[0]*4)\n",
    "print(\"Number of genes with non-zero counts:\", (counts_raw > 0).sum().sum())\n",
    "print(\"Number of genes with zero counts:\", (counts_raw == 0).sum().sum())"
   ]
  },
  {
   "cell_type": "code",
   "execution_count": null,
   "id": "5ffcb77c",
   "metadata": {},
   "outputs": [],
   "source": [
    "# Number of zero counts per sample\n",
    "print(\"\\nNumber of zeroes sample 1:\", (counts_raw.iloc[:, 0] == 0).sum(), \"=\", f\"{(counts_raw.iloc[:, 0] == 0).sum()/33602*100:.2f}%\",)\n",
    "print(\"\\nNumber of zeroes sample 2:\", (counts_raw.iloc[:, 1] == 0).sum(), \"=\", f\"{(counts_raw.iloc[:, 1] == 0).sum()/33602*100:.2f}%\",)\n",
    "print(\"\\nNumber of zeroes sample 3:\", (counts_raw.iloc[:, 2] == 0).sum(), \"=\", f\"{(counts_raw.iloc[:, 2] == 0).sum()/33602*100:.2f}%\",)\n",
    "print(\"\\nNumber of zeroes sample 4:\", (counts_raw.iloc[:, 3] == 0).sum(), \"=\", f\"{(counts_raw.iloc[:, 3] == 0).sum()/33602*100:.2f}%\",)"
   ]
  },
  {
   "cell_type": "code",
   "execution_count": null,
   "id": "e9135d4a",
   "metadata": {},
   "outputs": [],
   "source": [
    "# Number of counts < 1 per sample\n",
    "print(\"\\nNumber of counts < 1 sample 1:\", (counts_raw.iloc[:, 0] < 1).sum(), \"=\", f\"{(counts_raw.iloc[:, 0] < 1).sum()/33602*100:.2f}%\",)\n",
    "print(\"\\nNumber of counts < 1 sample 2:\", (counts_raw.iloc[:, 1] < 1).sum(), \"=\", f\"{(counts_raw.iloc[:, 1] < 1).sum()/33602*100:.2f}%\",)\n",
    "print(\"\\nNumber of counts < 1 sample 3:\", (counts_raw.iloc[:, 2] < 1).sum(), \"=\", f\"{(counts_raw.iloc[:, 2] < 1).sum()/33602*100:.2f}%\",)\n",
    "print(\"\\nNumber of counts < 1 sample 4:\", (counts_raw.iloc[:, 3] < 1).sum(), \"=\", f\"{(counts_raw.iloc[:, 3] < 1).sum()/33602*100:.2f}%\",)"
   ]
  },
  {
   "cell_type": "code",
   "execution_count": null,
   "id": "73d3f1fd",
   "metadata": {},
   "outputs": [],
   "source": [
    "# Count out genes with low counts across all samples (keep genes with count > 1 in at least 2 samples).\n",
    "print(\"Total number of genes:\", counts_raw.shape[0])\n",
    "print(\"Number of genes with count > 1 in at least 2 samples:\", ((counts_raw > 1).sum(axis=1) >= 2).sum())\n",
    "print(\"Number of genes with count > 1 in at least 3 samples:\", ((counts_raw > 1).sum(axis=1) >= 3).sum())\n"
   ]
  },
  {
   "cell_type": "code",
   "execution_count": null,
   "id": "bb2a72ae",
   "metadata": {},
   "outputs": [],
   "source": [
    "# Barplot of counts per sample\n",
    "sample_sums = counts_raw.sum(axis=0)\n",
    "colors = ['red' if s in ['Sample3', 'Sample4'] else 'C0' for s in sample_sums.index]\n",
    "sample_sums.plot(kind='bar', color=colors)\n",
    "plt.ylabel('Total Counts')\n",
    "plt.title('Total Counts per Sample')\n",
    "plt.show()\n"
   ]
  },
  {
   "cell_type": "code",
   "execution_count": null,
   "id": "0f980317",
   "metadata": {},
   "outputs": [],
   "source": [
    "# Histogram of log-transformed counts per sample (log2(CPM + 1)).\n",
    "library_sizes = counts_raw.sum(axis=0)\n",
    "cpm = counts_raw.div(library_sizes, axis=1) * 1e6\n",
    "log_cpm = np.log2(cpm + 1)\n",
    "\n",
    "# Use high-contrast colors for each sample\n",
    "contrast_colors = ['#1f77b4', '#ff7f0e', '#2ca02c', '#d62728']  # blue, orange, green, red\n",
    "\n",
    "plt.figure(figsize=(8, 5))\n",
    "for col, color in zip(log_cpm.columns, contrast_colors):\n",
    "    sns.histplot(log_cpm[col], bins=50, kde=False, label=col, color=color, alpha=0.5)\n",
    "plt.xlabel('log2(CPM + 1)')\n",
    "plt.ylabel('Gene count')\n",
    "plt.title('Histogram of log2(CPM + 1) per sample')\n",
    "plt.legend()\n",
    "plt.show()"
   ]
  },
  {
   "cell_type": "markdown",
   "id": "485636c9",
   "metadata": {},
   "source": [
    "### Data Prep for DE"
   ]
  },
  {
   "cell_type": "code",
   "execution_count": null,
   "id": "94d4ff5f",
   "metadata": {},
   "outputs": [],
   "source": [
    "# Filter out rows with zero counts\n",
    "counts = counts_raw[(counts_raw > 1).sum(axis=1) >= 2].astype(int)\n",
    "counts"
   ]
  },
  {
   "cell_type": "code",
   "execution_count": null,
   "id": "c0300305",
   "metadata": {},
   "outputs": [],
   "source": [
    "# Verify number of filtered rows\n",
    "print(counts.shape)\n",
    "print(counts_raw.shape)"
   ]
  },
  {
   "cell_type": "code",
   "execution_count": null,
   "id": "7b5e1cb9",
   "metadata": {},
   "outputs": [],
   "source": [
    "# Transpose the counts DataFrame to have genes as rows and samples as columns\n",
    "counts_t = counts.transpose()\n",
    "print(counts_t.shape)\n",
    "counts_t.head()"
   ]
  },
  {
   "cell_type": "code",
   "execution_count": null,
   "id": "4ca0b31b",
   "metadata": {},
   "outputs": [],
   "source": [
    "# Format the conditions DataFrame to match the counts DataFrame by sample names\n",
    "metadata = pd.DataFrame(zip(counts_t.index, ['KCL', 'KCL', 'KNO3', 'KNO3']), columns=['sample', 'condition'])\n",
    "metadata.set_index('sample', inplace=True)\n",
    "metadata"
   ]
  },
  {
   "cell_type": "code",
   "execution_count": null,
   "id": "8ee90629",
   "metadata": {},
   "outputs": [],
   "source": [
    "# Create DeseqDataSet object with counts and metadata\n",
    "dds = DeseqDataSet(\n",
    "    counts=counts_t, \n",
    "    metadata=metadata,\n",
    "    design_factors=\"condition\")\n"
   ]
  },
  {
   "cell_type": "code",
   "execution_count": null,
   "id": "1c9b41c7",
   "metadata": {},
   "outputs": [],
   "source": [
    "# Preliminary PCA\n",
    "import scanpy as sc\n",
    "sc.tl.pca(dds)\n",
    "\n",
    "# Get explained variance ratio for PC1 and PC2\n",
    "explained_var = dds.uns['pca']['variance_ratio'] * 100\n",
    "pc1_var = explained_var[0]\n",
    "pc2_var = explained_var[1]\n",
    "\n",
    "# Create the PCA plot\n",
    "sc.pl.pca(dds, color='condition', size=200, show=False)\n",
    "\n",
    "# Add sample names as annotations\n",
    "pca_coords = dds.obsm['X_pca']\n",
    "for i, sample in enumerate(dds.obs_names):\n",
    "    plt.annotate(sample, (pca_coords[i, 0], pca_coords[i, 1]), \n",
    "                xytext=(5, 5), textcoords='offset points', fontsize=10, alpha=0.8)\n",
    "\n",
    "plt.xlabel(f\"PC1 ({pc1_var:.1f}%)\")\n",
    "plt.ylabel(f\"PC2 ({pc2_var:.1f}%)\")\n",
    "plt.show()"
   ]
  },
  {
   "cell_type": "markdown",
   "id": "255a2f83",
   "metadata": {},
   "source": [
    "### DeSeq "
   ]
  },
  {
   "cell_type": "code",
   "execution_count": null,
   "id": "5316c7d7",
   "metadata": {},
   "outputs": [],
   "source": [
    "# Run DESeq2 analysis\n",
    "dds.deseq2()\n",
    "dds"
   ]
  },
  {
   "cell_type": "code",
   "execution_count": null,
   "id": "ea943445",
   "metadata": {},
   "outputs": [],
   "source": [
    "stats = DeseqStats(dds, contrast=['condition', 'KCL', 'KNO3'], n_cpus=8)\n",
    "stats.summary()"
   ]
  },
  {
   "cell_type": "code",
   "execution_count": null,
   "id": "9104f02c",
   "metadata": {},
   "outputs": [],
   "source": [
    "# Extract results DataFrame\n",
    "res = stats.results_df\n",
    "res"
   ]
  },
  {
   "cell_type": "code",
   "execution_count": null,
   "id": "7dfad635",
   "metadata": {},
   "outputs": [],
   "source": [
    "# Filter results based on baseMean\n",
    "res = res[res['baseMean'] >= 10]\n",
    "res"
   ]
  },
  {
   "cell_type": "code",
   "execution_count": null,
   "id": "713e71b7",
   "metadata": {},
   "outputs": [],
   "source": [
    "# Add a column for gene names\n",
    "# First drop the 'transcript_id' column temporarily\n",
    "mapping_df_no_transcript = mapping.drop(columns=['transcript_id'])\n",
    "\n",
    "# Drop duplicates based on both 'gene_id' and 'gene_name'\n",
    "mapping_df_no_duplicates = mapping_df_no_transcript.drop_duplicates(subset=['gene_id', 'gene_name'])"
   ]
  },
  {
   "cell_type": "code",
   "execution_count": null,
   "id": "1810e2c2",
   "metadata": {},
   "outputs": [],
   "source": [
    "# Then add the column by mmatching gene_id and gene_name\n",
    "res['Symbol'] = res.index.map(\n",
    "   mapping_df_no_duplicates.set_index('gene_id')['gene_name']\n",
    ").fillna('Unknown')\n",
    "res"
   ]
  },
  {
   "cell_type": "code",
   "execution_count": null,
   "id": "8f3d6258",
   "metadata": {},
   "outputs": [],
   "source": [
    "#  Write results to CSV file to port to R\n",
    "#res.to_csv('results.csv', index=True)"
   ]
  },
  {
   "cell_type": "code",
   "execution_count": null,
   "id": "39566c74",
   "metadata": {},
   "outputs": [],
   "source": [
    "# Filter significant results based on adjusted p-value and log2 fold change\n",
    "sigs = res[(res.padj < 0.05) & (abs(res.log2FoldChange) > 1)]\n",
    "sigs_symbols = dict(zip(sigs.index, sigs['Symbol']))\n",
    "sigs.shape"
   ]
  },
  {
   "cell_type": "markdown",
   "id": "7cd4a542",
   "metadata": {},
   "source": [
    "### PCA"
   ]
  },
  {
   "cell_type": "code",
   "execution_count": null,
   "id": "f004a9f5",
   "metadata": {},
   "outputs": [],
   "source": [
    "sc.tl.pca(dds, layer='normed_counts')"
   ]
  },
  {
   "cell_type": "code",
   "execution_count": null,
   "id": "c3f6a347",
   "metadata": {},
   "outputs": [],
   "source": [
    "# Get explained variance ratio for PC1 and PC2\n",
    "explained_var = dds.uns['pca']['variance_ratio'] * 100\n",
    "pc1_var = explained_var[0]\n",
    "pc2_var = explained_var[1]\n",
    "\n",
    "sc.pl.pca(dds, color='condition', size=200, show=False)\n",
    "plt.xlabel(f\"PC1 ({pc1_var:.1f}%)\")\n",
    "plt.ylabel(f\"PC2 ({pc2_var:.1f}%)\")\n",
    "plt.show()"
   ]
  },
  {
   "cell_type": "markdown",
   "id": "3fcb3c5f",
   "metadata": {},
   "source": [
    "### Heatmap"
   ]
  },
  {
   "cell_type": "code",
   "execution_count": null,
   "id": "3da0b5a1",
   "metadata": {},
   "outputs": [],
   "source": [
    "# Add log1p transformed counts to layers\n",
    "dds.layers['log1p'] = np.log1p(dds.layers['normed_counts'])\n",
    "dds"
   ]
  },
  {
   "cell_type": "code",
   "execution_count": null,
   "id": "0b52c513",
   "metadata": {},
   "outputs": [],
   "source": [
    "# Subset the DeseqDataSet to include only significant genes\n",
    "dds_sigs = dds[:,  sigs.index]\n",
    "dds_sigs"
   ]
  },
  {
   "cell_type": "code",
   "execution_count": null,
   "id": "2e0bcc6f",
   "metadata": {},
   "outputs": [],
   "source": [
    "grapher = pd.DataFrame(dds_sigs.layers['log1p'].T,\n",
    "    index=dds_sigs.var_names, columns=dds_sigs.obs_names)\n",
    "grapher"
   ]
  },
  {
   "cell_type": "code",
   "execution_count": null,
   "id": "c2d8a5d2",
   "metadata": {},
   "outputs": [],
   "source": [
    "col_colors = pd.Series(['KCL', 'KCL', 'KNO3', 'KNO3'], index=grapher.columns)\n",
    "lut = {'KCL': \"#D5D837\", 'KNO3': \"#8028D8\"}\n",
    "col_colors = col_colors.map(lut)\n",
    "\n",
    "sns.clustermap(grapher,\n",
    "               z_score=0,\n",
    "               cmap='RdYlBu_r',\n",
    "               col_colors=col_colors)\n",
    "\n",
    "# Add a legend for the conditions\n",
    "for label in lut:\n",
    "    plt.scatter([], [], color=lut[label], label=label)\n",
    "plt.legend(title='Condition', bbox_to_anchor=(1, 1), bbox_transform=plt.gcf().transFigure)\n",
    "\n",
    "# Add a label \"condition\" on the right, above the gene symbols\n",
    "g = plt.gcf().axes[-1]  # colorbar axis\n",
    "g.annotate('Condition', xy=(18.1, -0.125), xycoords='axes fraction', ha='center', va='bottom', fontsize=12, fontweight='bold', rotation=0)"
   ]
  },
  {
   "cell_type": "markdown",
   "id": "079df659",
   "metadata": {},
   "source": [
    "### Volcano\n"
   ]
  },
  {
   "cell_type": "code",
   "execution_count": null,
   "id": "bd7a25cb",
   "metadata": {},
   "outputs": [],
   "source": [
    "# Select most significant genes - among the downregulated, pick 10 with lowest padj, and among those, \n",
    "# 5 with lowest log2FoldChange. Vice versa for upregulated genes.\n",
    "\n",
    "# Select genes with padj < 0.05 and log2FC < 1 (downregulated or low upregulation)\n",
    "down = res[(res['padj'] < 0.05) & (res['log2FoldChange'] < 1)]\n",
    "down_10 = down.nsmallest(10, 'padj')\n",
    "down_5 = down_10.nsmallest(5, 'log2FoldChange')\n",
    "\n",
    "# Select genes with padj < 0.05 and log2FC > 1 (upregulated)\n",
    "up = res[(res['padj'] < 0.05) & (res['log2FoldChange'] > 1)]\n",
    "up_10 = up.nsmallest(10, 'padj')\n",
    "up_5 = up_10.nlargest(5, 'log2FoldChange')\n",
    "\n",
    "# Concatenate the results\n",
    "top_genes = pd.concat([down_5, up_5])\n",
    "\n",
    "gene_selection = top_genes['Symbol'].tolist()\n",
    "gene_selection\n"
   ]
  },
  {
   "cell_type": "code",
   "execution_count": null,
   "id": "6e1a59ca",
   "metadata": {},
   "outputs": [],
   "source": [
    "# Create volcano plot data\n",
    "padj_thresh = 0.05\n",
    "lfc_thresh = 1.0\n",
    "\n",
    "volcano_data = res.copy()\n",
    "volcano_data['-log10(padj)'] = -np.log10(volcano_data['padj'])\n",
    "\n",
    "# Define significance categories\n",
    "volcano_data['Category'] = 'Not Significant'\n",
    "volcano_data.loc[(volcano_data['padj'] < padj_thresh) & (volcano_data['log2FoldChange'] > lfc_thresh), 'Category'] = 'Upregulated'\n",
    "volcano_data.loc[(volcano_data['padj'] < padj_thresh) & (volcano_data['log2FoldChange'] < -lfc_thresh), 'Category'] = 'Downregulated'\n",
    "volcano_data.loc[(volcano_data['padj'] < padj_thresh) & (abs(volcano_data['log2FoldChange']) <= lfc_thresh), 'Category'] = 'Significant'\n",
    "\n",
    "# Highlight top genes\n",
    "highlight_genes = top_genes.index.tolist()\n",
    "volcano_data['Highlight'] = volcano_data.index.isin(highlight_genes)\n",
    "\n",
    "# Create the plot\n",
    "plt.figure(figsize=(10, 8))\n",
    "\n",
    "# Plot points by category\n",
    "categories = volcano_data['Category'].unique()\n",
    "colors = {'Not Significant': 'lightgray', 'Upregulated': 'red', 'Downregulated': 'blue', 'Significant': 'orange'}\n",
    "\n",
    "for category in categories:\n",
    "    subset = volcano_data[volcano_data['Category'] == category]\n",
    "    plt.scatter(subset['log2FoldChange'], subset['-log10(padj)'], \n",
    "               c=colors[category], alpha=0.6, s=20, label=category)\n",
    "\n",
    "# Highlight top genes\n",
    "highlight_data = volcano_data[volcano_data['Highlight']]\n",
    "plt.scatter(highlight_data['log2FoldChange'], highlight_data['-log10(padj)'], \n",
    "           c='black', s=100, alpha=0.8, edgecolors='white', linewidth=2, label='Top Genes')\n",
    "\n",
    "# Add gene labels for highlighted genes\n",
    "for idx, row in highlight_data.iterrows():\n",
    "    plt.annotate(row['Symbol'], (row['log2FoldChange'], row['-log10(padj)']), \n",
    "                xytext=(5, 5), textcoords='offset points', fontsize=8, alpha=0.8)\n",
    "\n",
    "# Add threshold lines\n",
    "plt.axhline(y=-np.log10(padj_thresh), color='gray', linestyle='--', alpha=0.7)\n",
    "plt.axvline(x=lfc_thresh, color='gray', linestyle='--', alpha=0.7)\n",
    "plt.axvline(x=-lfc_thresh, color='gray', linestyle='--', alpha=0.7)\n",
    "\n",
    "# Formatting\n",
    "plt.xlabel('log2(Fold Change)')\n",
    "plt.ylabel('-log10(adjusted p-value)')\n",
    "plt.title('Volcano Plot: KCL vs KNO3')\n",
    "plt.legend()\n",
    "plt.grid(True, alpha=0.3)\n",
    "plt.show()\n"
   ]
  },
  {
   "cell_type": "code",
   "execution_count": null,
   "id": "53a564fa",
   "metadata": {},
   "outputs": [],
   "source": [
    "gene_selection_named = {idx: symbol for idx, symbol in sigs['Symbol'].items() if symbol in gene_selection}\n",
    "gene_selection_named"
   ]
  },
  {
   "cell_type": "markdown",
   "id": "a747bc1c",
   "metadata": {},
   "source": [
    "### Subset Heatmap"
   ]
  },
  {
   "cell_type": "code",
   "execution_count": null,
   "id": "5a35599e",
   "metadata": {},
   "outputs": [],
   "source": [
    "dds_selected = dds[:, list(gene_selection_named.keys())]"
   ]
  },
  {
   "cell_type": "code",
   "execution_count": null,
   "id": "fbb665e8",
   "metadata": {},
   "outputs": [],
   "source": [
    "grapher_selected = pd.DataFrame(dds_selected.layers['log1p'].T,\n",
    "    index=dds_selected.var_names, columns=dds_selected.obs_names)\n",
    "grapher_selected"
   ]
  },
  {
   "cell_type": "code",
   "execution_count": null,
   "id": "bdd74127",
   "metadata": {},
   "outputs": [],
   "source": [
    "grapher_symbol = grapher_selected.rename(index=gene_selection_named)\n",
    "grapher_symbol"
   ]
  },
  {
   "cell_type": "code",
   "execution_count": null,
   "id": "68d4c3fb",
   "metadata": {},
   "outputs": [],
   "source": [
    "# Create a heatmap for the selected genes\n",
    "col_colors = pd.Series(['KCL', 'KCL', 'KNO3', 'KNO3'], index=grapher_symbol.columns)\n",
    "lut = {'KCL': \"#D5D837\", 'KNO3': \"#8028D8\"}\n",
    "col_colors = col_colors.map(lut)\n",
    "\n",
    "sns.clustermap(grapher_symbol,\n",
    "               z_score=0,\n",
    "               cmap='RdYlBu_r',\n",
    "               col_colors=col_colors)\n",
    "\n",
    "# Add a legend for the conditions\n",
    "for label in lut:\n",
    "    plt.scatter([], [], color=lut[label], label=label)\n",
    "plt.legend(title='Condition', bbox_to_anchor=(1, 1), bbox_transform=plt.gcf().transFigure)\n",
    "\n",
    "# Add a label \"condition\" on the right, above the gene symbols\n",
    "g = plt.gcf().axes[-1]  # colorbar axis\n",
    "g.annotate('Condition', xy=(18.1, -0.125), xycoords='axes fraction', ha='center', va='bottom', fontsize=12, fontweight='bold', rotation=0)"
   ]
  },
  {
   "cell_type": "code",
   "execution_count": null,
   "id": "7d072b35",
   "metadata": {},
   "outputs": [],
   "source": [
    "grapher_counts = pd.DataFrame(dds_selected.layers['normed_counts'].T,\n",
    "    index=dds_selected.var_names, columns=dds_selected.obs_names)\n",
    "grapher_symbol_counts = grapher_counts.rename(index=gene_selection_named)\n",
    "grapher_symbol_counts"
   ]
  },
  {
   "cell_type": "code",
   "execution_count": null,
   "id": "2e73eae5",
   "metadata": {},
   "outputs": [],
   "source": [
    "# Create barplot data for selected genes - \n",
    "selected_genes_data = grapher_symbol_counts.T  # Transpose to have samples as rows\n",
    "\n",
    "# Separate genes into up and downregulated based on log2FoldChange from res\n",
    "upregulated_genes = []\n",
    "downregulated_genes = []\n",
    "\n",
    "for gene_id, symbol in gene_selection_named.items():\n",
    "    if res.loc[gene_id, 'log2FoldChange'] > 0:\n",
    "        upregulated_genes.append(symbol)\n",
    "    else:\n",
    "        downregulated_genes.append(symbol)\n",
    "\n",
    "# Create subplots for up and downregulated genes\n",
    "fig, (ax1, ax2) = plt.subplots(1, 2, figsize=(16, 8))\n",
    "\n",
    "# Define colors for conditions\n",
    "condition_colors = {'KCL': \"#E93A3A\", 'KNO3': \"#3450DF\"}\n",
    "sample_conditions = ['KCL', 'KCL', 'KNO3', 'KNO3']\n",
    "colors = [condition_colors[cond] for cond in sample_conditions]\n",
    "\n",
    "# Plot upregulated genes\n",
    "if upregulated_genes:\n",
    "    up_data = selected_genes_data[upregulated_genes]\n",
    "    x_up = np.arange(len(upregulated_genes))\n",
    "    width = 0.2\n",
    "    \n",
    "    for i, (sample, color) in enumerate(zip(up_data.index, colors)):\n",
    "        offset = (i - 1.5) * width\n",
    "        ax1.bar(x_up + offset, up_data.loc[sample], width, \n",
    "               label=sample, color=color, alpha=0.8)\n",
    "\n",
    "    ax1.set_ylabel('Normalized Counts')\n",
    "    ax1.set_title('Expression Levels of Upregulated Genes')\n",
    "    ax1.set_xticks(x_up)\n",
    "    ax1.set_xticklabels(upregulated_genes, rotation=45, ha='right')\n",
    "    ax1.legend()\n",
    "    ax1.grid(True, alpha=0.3)\n",
    "\n",
    "# Plot downregulated genes\n",
    "if downregulated_genes:\n",
    "    down_data = selected_genes_data[downregulated_genes]\n",
    "    x_down = np.arange(len(downregulated_genes))\n",
    "    \n",
    "    for i, (sample, color) in enumerate(zip(down_data.index, colors)):\n",
    "        offset = (i - 1.5) * width\n",
    "        ax2.bar(x_down + offset, down_data.loc[sample], width, \n",
    "               label=sample, color=color, alpha=0.8)\n",
    "    \n",
    "    ax2.set_ylabel('Normalized Counts')\n",
    "    ax2.set_title('Expression Levels of Downregulated Genes')\n",
    "    ax2.set_xticks(x_down)\n",
    "    ax2.set_xticklabels(downregulated_genes, rotation=45, ha='right')\n",
    "    ax2.legend()\n",
    "    ax2.grid(True, alpha=0.3)\n",
    "\n",
    "plt.tight_layout()\n",
    "plt.show()"
   ]
  }
 ],
 "metadata": {
  "kernelspec": {
   "display_name": ".venv",
   "language": "python",
   "name": "python3"
  },
  "language_info": {
   "codemirror_mode": {
    "name": "ipython",
    "version": 3
   },
   "file_extension": ".py",
   "mimetype": "text/x-python",
   "name": "python",
   "nbconvert_exporter": "python",
   "pygments_lexer": "ipython3",
   "version": "3.11.9"
  }
 },
 "nbformat": 4,
 "nbformat_minor": 5
}
